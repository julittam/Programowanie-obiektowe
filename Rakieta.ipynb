{
 "cells": [
  {
   "cell_type": "code",
   "execution_count": 1,
   "id": "26f3aa98-db04-4f8e-8997-6ae7f61668a5",
   "metadata": {
    "tags": []
   },
   "outputs": [],
   "source": [
    "class Rakieta:\n",
    "    def __init__(self, pozycja=(0, 0)):\n",
    "        self.set_pozycja(pozycja)\n",
    "\n",
    "    def sprawdz_pozycje(pozycja):\n",
    "        assert isinstance(pozycja, (tuple, list)), 'pozycja powinna być listą/krotką'\n",
    "        assert len(pozycja) == 2, 'pozycja powinna mieć 2 elementy'\n",
    "        assert all([isinstance(el, (int, float)) for el in pozycja]), 'elementy pozycja powinna być liczbami'\n",
    "        assert pozycja[1] >= 0, 'drugi element pozycji powinien być nieujemny'\n",
    "\n",
    "    def get_pozycja(self):\n",
    "        return self.pozycja\n",
    "\n",
    "    def set_pozycja(self, var):\n",
    "        __class__.sprawdz_pozycje(var)\n",
    "        self.pozycja = var\n",
    "\n",
    "    def przesun_rakiete(self, przesuniecie):\n",
    "        x, y = self.get_pozycja()  # czytaj obecną pozycję\n",
    "        dx, dy = przesuniecie  # przesuniecie\n",
    "        nowa_pozycja = (x + dx, y + dy)  # ustaw nową pozycję\n",
    "        self.set_pozycja(nowa_pozycja)\n",
    "\n",
    "    def w_gore(self, var):\n",
    "        self.przesun_rakiete((0, var))\n",
    "\n",
    "    def w_dol(self, var):\n",
    "        self.przesun_rakiete((0, -var))\n",
    "\n",
    "    def w_prawo(self, var):\n",
    "        self.przesun_rakiete((var, 0))\n",
    "\n",
    "    def w_lewo(self, var):\n",
    "        self.przesun_rakiete((-var, 0))\n",
    "\n",
    "    def laduj(self):\n",
    "        x, y = self.get_pozycja()\n",
    "        self.set_pozycja((x, 0))\n",
    "\n",
    "    def __repr__(self):\n",
    "        return f'Rakieta w pozycji {self.get_pozycja()}'\n",
    "\n",
    "    def __str__(self):\n",
    "        return self.__repr__()"
   ]
  },
  {
   "cell_type": "code",
   "execution_count": 2,
   "id": "d40a343f-9908-454c-8483-fedc7a0e5b2c",
   "metadata": {
    "tags": []
   },
   "outputs": [
    {
     "name": "stdout",
     "output_type": "stream",
     "text": [
      "[(0, 0), (0, 10), (89, 1), (160, 1), (220, 1), (256, 4), (319, 4), (233, 4), (175, 8), (173, 0), (191, 5), (268, 5), (268, 0)]\n"
     ]
    },
    {
     "data": {
      "text/plain": [
       "[<matplotlib.lines.Line2D at 0x7f613d6d4610>]"
      ]
     },
     "execution_count": 2,
     "metadata": {},
     "output_type": "execute_result"
    },
    {
     "data": {
      "image/png": "[encoded data removed]",
      "text/plain": [
       "<Figure size 640x480 with 1 Axes>"
      ]
     },
     "metadata": {},
     "output_type": "display_data"
    }
   ],
   "source": [
    "import random\n",
    "\n",
    "rakieta = Rakieta()\n",
    "pozycja = []\n",
    "pozycja.append(rakieta.get_pozycja())\n",
    "\n",
    "# start pionowy\n",
    "rakieta.w_gore(10)\n",
    "pozycja.append(rakieta.get_pozycja())\n",
    "\n",
    "ilosc_skokow = 10\n",
    "for i in range(ilosc_skokow):\n",
    "    # góra czy dół?\n",
    "    dy = random.randint(0, 10)\n",
    "    if random.random() > 0.5:\n",
    "        rakieta.w_gore(dy)\n",
    "    else:\n",
    "        try:\n",
    "            rakieta.w_dol(dy)\n",
    "        except:\n",
    "            pass\n",
    "\n",
    "    # lewo czy prawo?\n",
    "    dx = random.randint(0, 100)\n",
    "    if random.random() > 0.5:\n",
    "        rakieta.w_prawo(dx)\n",
    "    else:\n",
    "        rakieta.w_lewo(dx)\n",
    "\n",
    "    pozycja.append(rakieta.get_pozycja())\n",
    "\n",
    "#lądujemy\n",
    "rakieta.laduj()\n",
    "pozycja.append(rakieta.get_pozycja())\n",
    "print(pozycja)\n",
    "\n",
    "### Odkomentuj jeżeli chcesz zobaczyć jak latała rakieta...\n",
    "import pylab\n",
    "%matplotlib inline\n",
    "x, y = zip(*pozycja)\n",
    "pylab.plot(x, y, '*-')\n",
    "pylab.plot(x[:1], y[:1], '^r', markersize=10)\n",
    "pylab.plot(x[-1:], y[-1:], 'vr', markersize=10)"
   ]
  },
  {
   "cell_type": "code",
   "execution_count": null,
   "id": "fe65ead2-bfe9-45f1-86f0-a2f69d82eeb2",
   "metadata": {},
   "outputs": [],
   "source": []
  }
 ],
 "metadata": {
  "kernelspec": {
   "display_name": "Python 3 (ipykernel)",
   "language": "python",
   "name": "python3"
  },
  "language_info": {
   "codemirror_mode": {
    "name": "ipython",
    "version": 3
   },
   "file_extension": ".py",
   "mimetype": "text/x-python",
   "name": "python",
   "nbconvert_exporter": "python",
   "pygments_lexer": "ipython3",
   "version": "3.10.12"
  }
 },
 "nbformat": 4,
 "nbformat_minor": 5
}
