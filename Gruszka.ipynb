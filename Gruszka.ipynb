{
 "cells": [
  {
   "cell_type": "code",
   "execution_count": 1,
   "id": "3a4f6ce9-310f-48a6-8f76-e7cd300d9276",
   "metadata": {
    "tags": []
   },
   "outputs": [],
   "source": [
    "class Gruszka:\n",
    "    '''\n",
    "    Obiekt Gruszka opisuje nam wlasnosci gruszek.\n",
    "\n",
    "    Args:\n",
    "        odmiana (str): trzyma odmiane owocu\n",
    "        waga (num): trzyma wage gruszek\n",
    "        smak (str): opisuje smak gruszek (slodki, kwasny, itd.)\n",
    "\n",
    "    Attributes:\n",
    "        odmiana: tu przechowujemy informacje o odmianie\n",
    "        waga: tu przechowujemy informacje o wadze\n",
    "        smak: tu przechowujemy informacje o smaku\n",
    "    '''\n",
    "\n",
    "    def __init__(self, odmiana, waga, smak):\n",
    "        self.odmiana = odmiana\n",
    "        self.waga = waga\n",
    "        self.smak = smak\n",
    "\n",
    "    def get_waga(self):\n",
    "        return self.waga\n",
    "\n",
    "    def get_odmiana(self):\n",
    "        return self.odmiana\n",
    "\n",
    "    def get_smak(self):\n",
    "        return self.smak\n",
    "\n",
    "    def set_waga(self, x):\n",
    "        if isinstance(x, (int, float)):\n",
    "            self.waga = x\n",
    "        else:\n",
    "            raise TypeError(\"Waga powinna byc liczba INT lub FLOAT\")\n",
    "\n",
    "    def set_odmiana(self, x):\n",
    "        if isinstance(x, str):\n",
    "            self.odmiana = x\n",
    "        else:\n",
    "            raise TypeError(\"Zmienna odmiana powinna byc lancuchem znakow STR\")\n",
    "\n",
    "    def set_smak(self, x):\n",
    "        if isinstance(x, str):\n",
    "            self.smak = x\n",
    "        else:\n",
    "            raise TypeError(\"Zmienna smak powinna byc lancuchem znakow STR\")\n",
    "\n",
    "    def __str__(self):\n",
    "        return f'Gruszka odmiany {self.get_odmiana()}, w smaku {self.get_smak()}, o wadze {self.get_waga()} gram'\n",
    "\n",
    "    def __repr__(self):\n",
    "        return f'Gruszka: {self.get_odmiana()}, smak: {self.get_smak()}, waga: {self.get_waga()} gram'"
   ]
  },
  {
   "cell_type": "code",
   "execution_count": 2,
   "id": "0954391e-792a-4392-a04e-f8b5283419f9",
   "metadata": {
    "tags": []
   },
   "outputs": [
    {
     "data": {
      "text/plain": [
       "Gruszka: Bonkreta Williamsa, smak: nieziemsko slodka, waga: 222 gram"
      ]
     },
     "execution_count": 2,
     "metadata": {},
     "output_type": "execute_result"
    }
   ],
   "source": [
    "# instancjonowanie\n",
    "gruszka5 = Gruszka('Bonkreta Williamsa', 222, 'nieziemsko slodka')\n",
    "gruszka5"
   ]
  },
  {
   "cell_type": "code",
   "execution_count": null,
   "id": "63e37f8b-bf8c-43f8-a9e1-0deffe9e1f56",
   "metadata": {},
   "outputs": [],
   "source": []
  }
 ],
 "metadata": {
  "kernelspec": {
   "display_name": "Python 3 (ipykernel)",
   "language": "python",
   "name": "python3"
  },
  "language_info": {
   "codemirror_mode": {
    "name": "ipython",
    "version": 3
   },
   "file_extension": ".py",
   "mimetype": "text/x-python",
   "name": "python",
   "nbconvert_exporter": "python",
   "pygments_lexer": "ipython3",
   "version": "3.10.12"
  }
 },
 "nbformat": 4,
 "nbformat_minor": 5
}
