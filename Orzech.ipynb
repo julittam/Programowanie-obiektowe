{
 "cells": [
  {
   "cell_type": "code",
   "execution_count": 1,
   "id": "9a02fd3b-7905-42c2-93fb-44d1c795de28",
   "metadata": {
    "tags": []
   },
   "outputs": [],
   "source": [
    "class Orzech(object): \n",
    "    \n",
    "    '''odmiana (str), rozmiar (num), cena (num)'''\n",
    "    \n",
    "    def __init__(self, odmiana, rozmiar, cena):\n",
    "        '''Fragment, który sprawdza poprawność danych. '''\n",
    "        assert isinstance(odmiana, str) and odmiana.isalpha(), 'Odmiana musi być napisem'\n",
    "        assert isinstance(rozmiar, (int,float)), 'Rozmiar musi być liczbą'\n",
    "        assert isinstance(cena, (int,float)), 'Cena musi być liczbą'\n",
    "        \n",
    "        self.__odmiana = odmiana\n",
    "        self.__rozmiar = rozmiar\n",
    "        self.__cena = cena\n",
    "        \n",
    "    def __str__(self):\n",
    "        return self.__odmiana + ' ' + str(self.__rozmiar) + 'g ' + str(self.__cena) + 'zł '\n",
    "    \n",
    "    def __repr__(self) -> str:\n",
    "        return f'Orzech({self.odmiana}, {self.rozmiar}), {self.cena})'\n",
    "    \n",
    "    @property\n",
    "    def odmiana(self):\n",
    "        return self.__odmiana\n",
    "    @property\n",
    "    def rozmiar(self):\n",
    "        return self.__rozmiar\n",
    "    @property\n",
    "    def cena(self):\n",
    "        return self.__cena\n",
    "    \n",
    "    @odmiana.setter\n",
    "    def odmiana(self, nowa):\n",
    "        assert isinstance(odmiana, str) and odmiana.isalpha(), 'Odmiana musi być napisem'\n",
    "        self.__odmiana = nowa\n",
    "        \n",
    "    @rozmiar.setter\n",
    "    def rozmiar(self, nowy):\n",
    "        assert isinstance(rozmiar, (int,float)), 'Rozmiar musi być liczbą'\n",
    "        self.__rozmiar = nowy\n",
    "        \n",
    "    @cena.setter\n",
    "    def ceba(self, nowa):\n",
    "        assert isinstance(cena, (int,float)), 'Cena musi być liczbą'\n",
    "        self.__cena = nowa"
   ]
  },
  {
   "cell_type": "code",
   "execution_count": 2,
   "id": "a0cfc183-32e8-46e9-8593-33c3415bb793",
   "metadata": {
    "tags": []
   },
   "outputs": [
    {
     "name": "stdout",
     "output_type": "stream",
     "text": [
      "włoski 30g 4zł \n",
      "włoski\n"
     ]
    }
   ],
   "source": [
    "orzech1 = Orzech('włoski',30,4)\n",
    "orzech1.__odmiana = 'nerkowiec'\n",
    "print(orzech1)\n",
    "print(orzech1.odmiana)"
   ]
  },
  {
   "cell_type": "code",
   "execution_count": null,
   "id": "2c85ad40-bb81-4b4f-95bc-b628f5a14847",
   "metadata": {},
   "outputs": [],
   "source": []
  }
 ],
 "metadata": {
  "kernelspec": {
   "display_name": "Python 3 (ipykernel)",
   "language": "python",
   "name": "python3"
  },
  "language_info": {
   "codemirror_mode": {
    "name": "ipython",
    "version": 3
   },
   "file_extension": ".py",
   "mimetype": "text/x-python",
   "name": "python",
   "nbconvert_exporter": "python",
   "pygments_lexer": "ipython3",
   "version": "3.10.12"
  }
 },
 "nbformat": 4,
 "nbformat_minor": 5
}
